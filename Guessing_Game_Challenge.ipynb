{
 "cells": [
  {
   "cell_type": "code",
   "execution_count": 2,
   "metadata": {},
   "outputs": [
    {
     "name": "stdout",
     "output_type": "stream",
     "text": [
      "Guessing game\n",
      "Try to guess a random number\n",
      "Enter number: 50\n",
      "WARM!\n",
      "Enter number: 51\n",
      "WARMER!\n",
      "Enter number: 52\n",
      "WARMER!\n",
      "Enter number: 53\n",
      "WARMER!\n",
      "Enter number: 54\n",
      "WARMER!\n",
      "Enter number: 55\n",
      "You have guessed the number!\n",
      "It takes you 6 attempts\n",
      "[50, 51, 52, 53, 54, 55]\n"
     ]
    }
   ],
   "source": [
    "from random import randint\n",
    "rad_num = randint(0,100)\n",
    "\n",
    "print(\"Guessing game\\nTry to guess a random number\")\n",
    "\n",
    "guesses = []\n",
    "\n",
    "flag = True\n",
    "while flag:\n",
    "    input_num = int(input('Enter number: '))\n",
    "    if input_num > 100 or input_num < 0:\n",
    "        print('OUT OF BOUNDS')\n",
    "    elif input_num == rad_num:\n",
    "        guesses.append(input_num)\n",
    "        print(\"You have guessed the number!\")\n",
    "        print(\"It takes you {} attempts\".format(len(guesses)))\n",
    "        print(guesses)\n",
    "        flag = False\n",
    "        guesses.clear()        \n",
    "    elif len(guesses) == 0 and abs(rad_num - input_num) <= 10:\n",
    "        guesses.append(input_num)\n",
    "        print('WARM!')\n",
    "    elif len(guesses) == 0 and abs(rad_num - input_num) > 10:\n",
    "        guesses.append(input_num)\n",
    "        print('COLD!')\n",
    "    elif abs(rad_num - guesses[-1]) >= abs(rad_num - input_num):\n",
    "        guesses.append(input_num)\n",
    "        print(\"WARMER!\")\n",
    "    elif abs(rad_num - guesses[-1]) < abs(rad_num - input_num):\n",
    "        guesses.append(input_num)\n",
    "        print(\"COLDER!\")"
   ]
  },
  {
   "cell_type": "code",
   "execution_count": null,
   "metadata": {},
   "outputs": [],
   "source": []
  }
 ],
 "metadata": {
  "kernelspec": {
   "display_name": "Python 3",
   "language": "python",
   "name": "python3"
  },
  "language_info": {
   "codemirror_mode": {
    "name": "ipython",
    "version": 3
   },
   "file_extension": ".py",
   "mimetype": "text/x-python",
   "name": "python",
   "nbconvert_exporter": "python",
   "pygments_lexer": "ipython3",
   "version": "3.6.5"
  }
 },
 "nbformat": 4,
 "nbformat_minor": 2
}
