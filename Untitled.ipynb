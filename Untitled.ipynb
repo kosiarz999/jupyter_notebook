{
 "cells": [
  {
   "cell_type": "code",
   "execution_count": 3,
   "metadata": {},
   "outputs": [
    {
     "ename": "SyntaxError",
     "evalue": "invalid syntax (<ipython-input-3-7332fcf96e96>, line 2)",
     "output_type": "error",
     "traceback": [
      "\u001b[0;36m  File \u001b[0;32m\"<ipython-input-3-7332fcf96e96>\"\u001b[0;36m, line \u001b[0;32m2\u001b[0m\n\u001b[0;31m    --> 240795 23412\u001b[0m\n\u001b[0m      ^\u001b[0m\n\u001b[0;31mSyntaxError\u001b[0m\u001b[0;31m:\u001b[0m invalid syntax\n"
     ]
    }
   ],
   "source": [
    "inp = input('--> ')\n",
    "--> 240795 23412\n",
    "234308 807202\n",
    "159295 657181\n",
    "461139 946267\n",
    "295404 681546\n",
    "757734 960132\n",
    "455376 834702\n",
    "773239 31965\n",
    "602101 347871\n",
    "872721 665875\n",
    "166600 52540\n",
    "153094 526335\n",
    "583181 442252\n",
    "766076 301574\n",
    "52504 979119\n",
    "inp"
   ]
  },
  {
   "cell_type": "code",
   "execution_count": 3,
   "metadata": {},
   "outputs": [
    {
     "name": "stdout",
     "output_type": "stream",
     "text": [
      "1\n",
      "[2, 3]\n"
     ]
    }
   ],
   "source": [
    "s = [1,2,3]\n",
    "r = s.pop(0)\n",
    "print(r)\n",
    "print(s)"
   ]
  },
  {
   "cell_type": "code",
   "execution_count": 213,
   "metadata": {},
   "outputs": [],
   "source": [
    "zrodlo = \"\"\"PS Niedługo po ukończeniu tego rozdziału chirurg Mikhaili oznajmił jej, że operacja wymiany kości śródstopia się nie udała — protezę będzie trzeba usunąć, a staw trwale usztywnić. Widmo przyszłej amputacji na-bierało kształtów. Od zainstalowania protezy minęło osiem lat pełnych bólu i nadal ograniczonej mobilności, choć pod oboma tymi względami był to krok w dobrą stronę. Cztery dni później córka trafiła na nowego fizjoterapeutę. Był nim wielki, silny, troskliwy mężczyzna. Specjalizował się w leczeniu stawów skokowych. Objął kostkę Mikhaili obiema rękami i ściskał ją, podczas gdy ona ruszała stopą w górę i w dół. Znajdująca się w niewłaściwej pozycji kość wskoczyła na swoje miejsce. Ból zniknął. Moja córka nigdy nie płakała przy lekarzach, ale wtedy dosłownie zalała się łzami. Jej kolano z czasem się wyprostowało. Teraz może pokonywać pieszo długie dystanse i brykać swawolnie na bosaka. Mięsień łydki na jej chorej nodze wyraźnie odrasta. W kostce z protezą ma większą swobodę ruchu niż w tej zdrowej. W tym roku wyszła za mąż i urodziła córeczkę, którą nazwała Elizabeth, po zmarłej mamie mojej żony. Sprawy mają się dobrze. Póki co.\"\"\""
   ]
  },
  {
   "cell_type": "code",
   "execution_count": 214,
   "metadata": {},
   "outputs": [],
   "source": [
    "myslniki = zrodlo.replace('-','')"
   ]
  },
  {
   "cell_type": "code",
   "execution_count": 215,
   "metadata": {},
   "outputs": [],
   "source": [
    "entery = myslniki.replace('\\n','')"
   ]
  },
  {
   "cell_type": "code",
   "execution_count": 216,
   "metadata": {},
   "outputs": [
    {
     "data": {
      "text/plain": [
       "'PS Niedługo po ukończeniu tego rozdziału chirurg Mikhaili oznajmił jej, że operacja wymiany kości śródstopia się nie udała — protezę będzie trzeba usunąć, a staw trwale usztywnić. Widmo przyszłej amputacji nabierało kształtów. Od zainstalowania protezy minęło osiem lat pełnych bólu i nadal ograniczonej mobilności, choć pod oboma tymi względami był to krok w dobrą stronę. Cztery dni później córka trafiła na nowego fizjoterapeutę. Był nim wielki, silny, troskliwy mężczyzna. Specjalizował się w leczeniu stawów skokowych. Objął kostkę Mikhaili obiema rękami i ściskał ją, podczas gdy ona ruszała stopą w górę i w dół. Znajdująca się w niewłaściwej pozycji kość wskoczyła na swoje miejsce. Ból zniknął. Moja córka nigdy nie płakała przy lekarzach, ale wtedy dosłownie zalała się łzami. Jej kolano z czasem się wyprostowało. Teraz może pokonywać pieszo długie dystanse i brykać swawolnie na bosaka. Mięsień łydki na jej chorej nodze wyraźnie odrasta. W kostce z protezą ma większą swobodę ruchu niż w tej zdrowej. W tym roku wyszła za mąż i urodziła córeczkę, którą nazwała Elizabeth, po zmarłej mamie mojej żony. Sprawy mają się dobrze. Póki co.'"
      ]
     },
     "execution_count": 216,
     "metadata": {},
     "output_type": "execute_result"
    }
   ],
   "source": [
    "entery"
   ]
  },
  {
   "cell_type": "code",
   "execution_count": 195,
   "metadata": {},
   "outputs": [],
   "source": [
    "upper = \"\"\"GDY BÓL MOCNO DOSKWIERAŁ MIKHAILI\"\"\".lower()"
   ]
  },
  {
   "cell_type": "code",
   "execution_count": 196,
   "metadata": {},
   "outputs": [
    {
     "data": {
      "text/plain": [
       "'gdy ból mocno doskwierał mikhaili'"
      ]
     },
     "execution_count": 196,
     "metadata": {},
     "output_type": "execute_result"
    }
   ],
   "source": [
    "upper"
   ]
  },
  {
   "cell_type": "code",
   "execution_count": 16,
   "metadata": {},
   "outputs": [],
   "source": [
    "nazwa = 'What consumer should know about record players_Villchur 1963'"
   ]
  },
  {
   "cell_type": "code",
   "execution_count": 17,
   "metadata": {},
   "outputs": [],
   "source": [
    "nowa_nazwa = nazwa.replace(' ', '_')"
   ]
  },
  {
   "cell_type": "code",
   "execution_count": 18,
   "metadata": {},
   "outputs": [
    {
     "data": {
      "text/plain": [
       "'What_consumer_should_know_about_record_players_Villchur_1963'"
      ]
     },
     "execution_count": 18,
     "metadata": {},
     "output_type": "execute_result"
    }
   ],
   "source": [
    "nowa_nazwa"
   ]
  },
  {
   "cell_type": "code",
   "execution_count": null,
   "metadata": {},
   "outputs": [],
   "source": []
  }
 ],
 "metadata": {
  "kernelspec": {
   "display_name": "Python 3",
   "language": "python",
   "name": "python3"
  },
  "language_info": {
   "codemirror_mode": {
    "name": "ipython",
    "version": 3
   },
   "file_extension": ".py",
   "mimetype": "text/x-python",
   "name": "python",
   "nbconvert_exporter": "python",
   "pygments_lexer": "ipython3",
   "version": "3.7.0"
  }
 },
 "nbformat": 4,
 "nbformat_minor": 2
}
