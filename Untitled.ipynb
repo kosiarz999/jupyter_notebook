{
 "cells": [
  {
   "cell_type": "code",
   "execution_count": 3,
   "metadata": {},
   "outputs": [
    {
     "ename": "SyntaxError",
     "evalue": "invalid syntax (<ipython-input-3-7332fcf96e96>, line 2)",
     "output_type": "error",
     "traceback": [
      "\u001b[0;36m  File \u001b[0;32m\"<ipython-input-3-7332fcf96e96>\"\u001b[0;36m, line \u001b[0;32m2\u001b[0m\n\u001b[0;31m    --> 240795 23412\u001b[0m\n\u001b[0m      ^\u001b[0m\n\u001b[0;31mSyntaxError\u001b[0m\u001b[0;31m:\u001b[0m invalid syntax\n"
     ]
    }
   ],
   "source": [
    "inp = input('--> ')\n",
    "--> 240795 23412\n",
    "234308 807202\n",
    "159295 657181\n",
    "461139 946267\n",
    "295404 681546\n",
    "757734 960132\n",
    "455376 834702\n",
    "773239 31965\n",
    "602101 347871\n",
    "872721 665875\n",
    "166600 52540\n",
    "153094 526335\n",
    "583181 442252\n",
    "766076 301574\n",
    "52504 979119\n",
    "inp"
   ]
  },
  {
   "cell_type": "code",
   "execution_count": 3,
   "metadata": {},
   "outputs": [
    {
     "name": "stdout",
     "output_type": "stream",
     "text": [
      "1\n",
      "[2, 3]\n"
     ]
    }
   ],
   "source": [
    "s = [1,2,3]\n",
    "r = s.pop(0)\n",
    "print(r)\n",
    "print(s)"
   ]
  },
  {
   "cell_type": "code",
   "execution_count": 11,
   "metadata": {},
   "outputs": [],
   "source": [
    "zrodlo = \"\"\"pokazałem im nawet, jak należy wykonać krzyż. Nie potrafiłem, nie miałem siły jednak odebrać sobie życia samemu, ale pragnie-niem moim było wzięcie na siebie ich cierpień, z całego serca tego pragnąłem. Pragnąłem umrzeć w męczarniach, pragnąłem, aby na krzyżu przelana została do ostatniej kropli moja krew. Oni ząk wyśmiewali się tylko ze mnie, by w końcu uznać mnie za nawie dzonego szaleńca. Zapewniali mnie, że nie ma tu żadnej mojej wi-ny, że za nic nie ponoszę najmniejszej choćby odpowiedzialności, że spotkało ich jedynie to, czego sami pragnęli, że musiało się tak stać i nie mogło być inaczej, ich teraźniejszość zaś jest właśnie ta-ką, jaką chcieli mieć. Wreszcie oświadczyli mi, że staję się dla nich niebezpieczny i jeśli nie zamilknę, zamkną mnie w domu waria-tów. Wówczas tak ogromna żałość napłynęła do mojej duszy, ścisnęła mi do granic ostateczności serce i poczułem, iż umieram W owej chwili właśnie się obudziłem. \n",
    "\"\"\""
   ]
  },
  {
   "cell_type": "code",
   "execution_count": 12,
   "metadata": {},
   "outputs": [],
   "source": [
    "myslniki = zrodlo.replace('-','')"
   ]
  },
  {
   "cell_type": "code",
   "execution_count": 13,
   "metadata": {},
   "outputs": [],
   "source": [
    "entery = myslniki.replace('\\n','')"
   ]
  },
  {
   "cell_type": "code",
   "execution_count": 14,
   "metadata": {},
   "outputs": [
    {
     "data": {
      "text/plain": [
       "'pokazałem im nawet, jak należy wykonać krzyż. Nie potrafiłem, nie miałem siły jednak odebrać sobie życia samemu, ale pragnieniem moim było wzięcie na siebie ich cierpień, z całego serca tego pragnąłem. Pragnąłem umrzeć w męczarniach, pragnąłem, aby na krzyżu przelana została do ostatniej kropli moja krew. Oni ząk wyśmiewali się tylko ze mnie, by w końcu uznać mnie za nawie dzonego szaleńca. Zapewniali mnie, że nie ma tu żadnej mojej winy, że za nic nie ponoszę najmniejszej choćby odpowiedzialności, że spotkało ich jedynie to, czego sami pragnęli, że musiało się tak stać i nie mogło być inaczej, ich teraźniejszość zaś jest właśnie taką, jaką chcieli mieć. Wreszcie oświadczyli mi, że staję się dla nich niebezpieczny i jeśli nie zamilknę, zamkną mnie w domu wariatów. Wówczas tak ogromna żałość napłynęła do mojej duszy, ścisnęła mi do granic ostateczności serce i poczułem, iż umieram W owej chwili właśnie się obudziłem. '"
      ]
     },
     "execution_count": 14,
     "metadata": {},
     "output_type": "execute_result"
    }
   ],
   "source": [
    "entery"
   ]
  },
  {
   "cell_type": "code",
   "execution_count": 33,
   "metadata": {},
   "outputs": [],
   "source": [
    "upper = \"\"\"Pojawiły się więc religie, których podstawą było głoszenie kultu niebytu i samozniszczenia\"\"\".upper()"
   ]
  },
  {
   "cell_type": "code",
   "execution_count": 34,
   "metadata": {},
   "outputs": [
    {
     "data": {
      "text/plain": [
       "'POJAWIŁY SIĘ WIĘC RELIGIE, KTÓRYCH PODSTAWĄ BYŁO GŁOSZENIE KULTU NIEBYTU I SAMOZNISZCZENIA'"
      ]
     },
     "execution_count": 34,
     "metadata": {},
     "output_type": "execute_result"
    }
   ],
   "source": [
    "upper"
   ]
  },
  {
   "cell_type": "code",
   "execution_count": 16,
   "metadata": {},
   "outputs": [],
   "source": [
    "nazwa = 'What consumer should know about record players_Villchur 1963'"
   ]
  },
  {
   "cell_type": "code",
   "execution_count": 17,
   "metadata": {},
   "outputs": [],
   "source": [
    "nowa_nazwa = nazwa.replace(' ', '_')"
   ]
  },
  {
   "cell_type": "code",
   "execution_count": 18,
   "metadata": {},
   "outputs": [
    {
     "data": {
      "text/plain": [
       "'What_consumer_should_know_about_record_players_Villchur_1963'"
      ]
     },
     "execution_count": 18,
     "metadata": {},
     "output_type": "execute_result"
    }
   ],
   "source": [
    "nowa_nazwa"
   ]
  },
  {
   "cell_type": "code",
   "execution_count": null,
   "metadata": {},
   "outputs": [],
   "source": []
  }
 ],
 "metadata": {
  "kernelspec": {
   "display_name": "Python 3",
   "language": "python",
   "name": "python3"
  },
  "language_info": {
   "codemirror_mode": {
    "name": "ipython",
    "version": 3
   },
   "file_extension": ".py",
   "mimetype": "text/x-python",
   "name": "python",
   "nbconvert_exporter": "python",
   "pygments_lexer": "ipython3",
   "version": "3.7.0"
  }
 },
 "nbformat": 4,
 "nbformat_minor": 2
}
