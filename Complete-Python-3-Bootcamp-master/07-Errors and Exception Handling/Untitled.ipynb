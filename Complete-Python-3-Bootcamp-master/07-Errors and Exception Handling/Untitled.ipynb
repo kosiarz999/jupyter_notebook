{
 "cells": [
  {
   "cell_type": "code",
   "execution_count": 2,
   "metadata": {},
   "outputs": [
    {
     "name": "stdout",
     "output_type": "stream",
     "text": [
      "Requirement already satisfied: pylint in /home/lukasz/anaconda3/lib/python3.6/site-packages (1.8.4)\n",
      "Requirement already satisfied: astroid<2.0,>=1.6 in /home/lukasz/anaconda3/lib/python3.6/site-packages (from pylint) (1.6.3)\n",
      "Requirement already satisfied: six in /home/lukasz/anaconda3/lib/python3.6/site-packages (from pylint) (1.11.0)\n",
      "Requirement already satisfied: isort>=4.2.5 in /home/lukasz/anaconda3/lib/python3.6/site-packages (from pylint) (4.3.4)\n",
      "Requirement already satisfied: mccabe in /home/lukasz/anaconda3/lib/python3.6/site-packages (from pylint) (0.6.1)\n",
      "Requirement already satisfied: lazy_object_proxy in /home/lukasz/anaconda3/lib/python3.6/site-packages (from astroid<2.0,>=1.6->pylint) (1.3.1)\n",
      "Requirement already satisfied: wrapt in /home/lukasz/anaconda3/lib/python3.6/site-packages (from astroid<2.0,>=1.6->pylint) (1.10.11)\n"
     ]
    }
   ],
   "source": [
    "!pip install pylint"
   ]
  },
  {
   "cell_type": "code",
   "execution_count": 4,
   "metadata": {},
   "outputs": [
    {
     "name": "stdout",
     "output_type": "stream",
     "text": [
      "No config file found, using default configuration\n",
      "************* Module simple1\n",
      "C: 14, 0: Final newline missing (missing-final-newline)\n",
      "\n",
      "------------------------------------------------------------------\n",
      "Your code has been rated at 8.33/10 (previous run: 8.33/10, +0.00)\n",
      "\n"
     ]
    }
   ],
   "source": [
    "!pylint simple1.py"
   ]
  },
  {
   "cell_type": "code",
   "execution_count": null,
   "metadata": {},
   "outputs": [],
   "source": []
  }
 ],
 "metadata": {
  "kernelspec": {
   "display_name": "Python 3",
   "language": "python",
   "name": "python3"
  },
  "language_info": {
   "codemirror_mode": {
    "name": "ipython",
    "version": 3
   },
   "file_extension": ".py",
   "mimetype": "text/x-python",
   "name": "python",
   "nbconvert_exporter": "python",
   "pygments_lexer": "ipython3",
   "version": "3.6.5"
  }
 },
 "nbformat": 4,
 "nbformat_minor": 2
}
